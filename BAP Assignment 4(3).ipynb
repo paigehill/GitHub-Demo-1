{
 "cells": [
  {
   "cell_type": "markdown",
   "metadata": {},
   "source": [
    "# Assignment 4\n",
    "### Due:  Wednesday, April 3rd 11:59 pm\n",
    "The following assignment relies heavily on the content covered in the week 4 notes.  Many of the operations you are asked to do here resemble those we went over in class.  Please make sure to reference lesson 4.1 and especially lesson 4.2 notes to guide you through these exercises.  You will need to examine the page:  https://www.marketwatch.com/investing/stock/aapl to understand the structure (tags, classes).  \n",
    "#### Documentation\n",
    "[requests library](http://docs.python-requests.org/en/master/)  \n",
    "[beautifulsoup library](https://www.crummy.com/software/BeautifulSoup/bs4/doc/)  "
   ]
  },
  {
   "cell_type": "markdown",
   "metadata": {},
   "source": [
    "### Problem 1\n",
    "The following is a method we can use to open a file called data_file.txt. "
   ]
  },
  {
   "cell_type": "markdown",
   "metadata": {},
   "source": [
    "a. Turn the following code into a try and except block printing our an informative message when the file doesn't open (which it won't).\n",
    "```\n",
    "with open('data_file.txt') as data:\n",
    "    read_data = data.read()\n",
    "```"
   ]
  },
  {
   "cell_type": "code",
   "execution_count": 5,
   "metadata": {},
   "outputs": [
    {
     "name": "stdout",
     "output_type": "stream",
     "text": [
      "Could not open data_file.txt\n"
     ]
    }
   ],
   "source": [
    "#First I try to open the data file\n",
    "try:\n",
    "    with open('data_file.txt') as data:\n",
    "        read_data=data.read(data)\n",
    "# Then I use the IOError exception to print the statement.\n",
    "except IOError:\n",
    "    print('Could not open data_file.txt')"
   ]
  },
  {
   "cell_type": "markdown",
   "metadata": {},
   "source": [
    "b.  Briefly desribe the importance of handling exceptions in programming. "
   ]
  },
  {
   "cell_type": "markdown",
   "metadata": {},
   "source": [
    "Answer:  If you don't catch the exception, if there is an error in your code the program will just stop running and probably close.  Catching an exception allows your program to recover from the error without crashing."
   ]
  },
  {
   "cell_type": "markdown",
   "metadata": {},
   "source": [
    "The rest of this assignment will rely on the following libraries.  You will need to import them again as part of your functions. "
   ]
  },
  {
   "cell_type": "code",
   "execution_count": 6,
   "metadata": {},
   "outputs": [],
   "source": [
    "#Packages\n",
    "#Web scraping packages\n",
    "from bs4 import BeautifulSoup\n",
    "import requests\n",
    "#Pandas for data manipulation\n",
    "import pandas as pd"
   ]
  },
  {
   "cell_type": "markdown",
   "metadata": {},
   "source": [
    "### Problem 2\n",
    "This problem is all about web-scraping with requests and BeautifulSoup.  "
   ]
  },
  {
   "cell_type": "markdown",
   "metadata": {},
   "source": [
    "a.  Run a get request to url=\"https://www.marketwatch.com/investing/stock/\"+\"aapl\" and store the object returned as 'response'.  If the status code is not 200, print \"request not successful\"."
   ]
  },
  {
   "cell_type": "code",
   "execution_count": 7,
   "metadata": {},
   "outputs": [],
   "source": [
    "# I import the necessary libraries\n",
    "import requests\n",
    "# then define the URL\n",
    "url=\"https://www.marketwatch.com/investing/stock/\"+\"aapl\"\n",
    "# then run a get request and store the object\n",
    "response = requests.get(url)\n",
    "# finally, I print as specified\n",
    "if not response.status_code == 200:\n",
    "    print(\"request not successful\")\n",
    "# I tested this by changing the above code to \"if not response.status_code==199\" to make sure it would print if it hit an error."
   ]
  },
  {
   "cell_type": "markdown",
   "metadata": {},
   "source": [
    "b.  Referencing the above response, create BeautifulSoup object called \"results_page\" parsed with 'lxml'."
   ]
  },
  {
   "cell_type": "code",
   "execution_count": 8,
   "metadata": {},
   "outputs": [],
   "source": [
    "# I import the necessary libraries\n",
    "from bs4 import BeautifulSoup\n",
    "# then build the BeautifulSoup object and name it results_page\n",
    "results_page = BeautifulSoup(response.content,'lxml')"
   ]
  },
  {
   "cell_type": "markdown",
   "metadata": {},
   "source": [
    "c.  On the webpage:  https://www.marketwatch.com/investing/stock/aapl, for the section called \"Key Data\". Inspect the page and verify that the tag/class combination that uniquely identifies each of the items in this table is 'li'/'kv_item'.  Find all elements identified by a tag of 'li' and a class_='kv_item'.  "
   ]
  },
  {
   "cell_type": "code",
   "execution_count": 9,
   "metadata": {},
   "outputs": [
    {
     "name": "stdout",
     "output_type": "stream",
     "text": [
      "[<li class=\"kv__item\">\n",
      "<small class=\"kv__label\">Open</small>\n",
      "<span class=\"kv__value kv__primary \">$194.79</span>\n",
      "<span class=\"kv__value kv__secondary no-value\"></span>\n",
      "</li>, <li class=\"kv__item\">\n",
      "<small class=\"kv__label\">Day Range</small>\n",
      "<span class=\"kv__value kv__primary \">194.76 - 196.37</span>\n",
      "<span class=\"kv__value kv__secondary no-value\"></span>\n",
      "</li>, <li class=\"kv__item\">\n",
      "<small class=\"kv__label\">52 Week Range</small>\n",
      "<span class=\"kv__value kv__primary \">142.00 - 233.47</span>\n",
      "<span class=\"kv__value kv__secondary no-value\"></span>\n",
      "</li>, <li class=\"kv__item\">\n",
      "<small class=\"kv__label\">Market Cap</small>\n",
      "<span class=\"kv__value kv__primary \">$921.13B</span>\n",
      "<span class=\"kv__value kv__secondary no-value\"></span>\n",
      "</li>, <li class=\"kv__item\">\n",
      "<small class=\"kv__label\">Shares Outstanding</small>\n",
      "<span class=\"kv__value kv__primary \">4.72B</span>\n",
      "<span class=\"kv__value kv__secondary no-value\"></span>\n",
      "</li>, <li class=\"kv__item\">\n",
      "<small class=\"kv__label\">Public Float</small>\n",
      "<span class=\"kv__value kv__primary \">4.71B</span>\n",
      "<span class=\"kv__value kv__secondary no-value\"></span>\n",
      "</li>, <li class=\"kv__item\">\n",
      "<small class=\"kv__label\">Beta</small>\n",
      "<span class=\"kv__value kv__primary \">1.19</span>\n",
      "<span class=\"kv__value kv__secondary no-value\"></span>\n",
      "</li>, <li class=\"kv__item\">\n",
      "<small class=\"kv__label\">Rev. per Employee</small>\n",
      "<span class=\"kv__value kv__primary \">$1.98M</span>\n",
      "<span class=\"kv__value kv__secondary no-value\"></span>\n",
      "</li>, <li class=\"kv__item\">\n",
      "<small class=\"kv__label\">P/E Ratio</small>\n",
      "<span class=\"kv__value kv__primary \">16.14</span>\n",
      "<span class=\"kv__value kv__secondary no-value\"></span>\n",
      "</li>, <li class=\"kv__item\">\n",
      "<small class=\"kv__label\">EPS</small>\n",
      "<span class=\"kv__value kv__primary \">$12.16</span>\n",
      "<span class=\"kv__value kv__secondary no-value\"></span>\n",
      "</li>, <li class=\"kv__item\">\n",
      "<small class=\"kv__label\">Yield</small>\n",
      "<span class=\"kv__value kv__primary \">1.49%</span>\n",
      "<span class=\"kv__value kv__secondary no-value\"></span>\n",
      "</li>, <li class=\"kv__item\">\n",
      "<small class=\"kv__label\">Dividend</small>\n",
      "<span class=\"kv__value kv__primary \">$0.73</span>\n",
      "<span class=\"kv__value kv__secondary no-value\"></span>\n",
      "</li>, <li class=\"kv__item\">\n",
      "<small class=\"kv__label\">Ex-Dividend Date</small>\n",
      "<span class=\"kv__value kv__primary \">Feb 8, 2019</span>\n",
      "<span class=\"kv__value kv__secondary no-value\"></span>\n",
      "</li>, <li class=\"kv__item\">\n",
      "<small class=\"kv__label\">Short Interest</small>\n",
      "<span class=\"kv__value kv__primary \">72.75M</span>\n",
      "<span class=\"kv__value kv__secondary \">03/15/19</span>\n",
      "</li>, <li class=\"kv__item\">\n",
      "<small class=\"kv__label\">% of Float Shorted</small>\n",
      "<span class=\"kv__value kv__primary \">1.55%</span>\n",
      "<span class=\"kv__value kv__secondary no-value\"></span>\n",
      "</li>, <li class=\"kv__item\">\n",
      "<small class=\"kv__label\">Average Volume</small>\n",
      "<span class=\"kv__value kv__primary \">31.7M</span>\n",
      "<span class=\"kv__value kv__secondary no-value\"></span>\n",
      "</li>]\n"
     ]
    }
   ],
   "source": [
    "# I find all the elements with the tag and class specified and name this key_data\n",
    "key_data = results_page.find_all('li', class_='kv__item')\n",
    "# then I print it\n",
    "print(key_data)"
   ]
  },
  {
   "cell_type": "markdown",
   "metadata": {},
   "source": [
    "d. The code to answer the above question should have returned a list.  Print the first item in this list.  You should get:\n",
    "```\n",
    "<li class=\"kv__item\">\n",
    "<small class=\"kv__label\">Open</small>\n",
    "<span class=\"kv__value kv__primary \">$188.75</span>\n",
    "<span class=\"kv__value kv__secondary no-value\"></span>\n",
    "</li>\n",
    "```"
   ]
  },
  {
   "cell_type": "code",
   "execution_count": 10,
   "metadata": {},
   "outputs": [
    {
     "data": {
      "text/plain": [
       "<li class=\"kv__item\">\n",
       "<small class=\"kv__label\">Open</small>\n",
       "<span class=\"kv__value kv__primary \">$194.79</span>\n",
       "<span class=\"kv__value kv__secondary no-value\"></span>\n",
       "</li>"
      ]
     },
     "execution_count": 10,
     "metadata": {},
     "output_type": "execute_result"
    }
   ],
   "source": [
    "key_data[0]"
   ]
  },
  {
   "cell_type": "markdown",
   "metadata": {},
   "source": [
    "Extract the label \"Open\" and the value \"$188.75\"\n",
    "\n",
    "Note:  values will differ."
   ]
  },
  {
   "cell_type": "code",
   "execution_count": 14,
   "metadata": {},
   "outputs": [
    {
     "name": "stdout",
     "output_type": "stream",
     "text": [
      "Open\n",
      "$194.79\n"
     ]
    }
   ],
   "source": [
    "# First I extract the label \n",
    "x=key_data[0]\n",
    "#Then I drill down and print\n",
    "print(x.findChildren()[0].string)\n",
    "print(x.findChildren()[1].string)"
   ]
  },
  {
   "cell_type": "markdown",
   "metadata": {},
   "source": [
    "e.  We need to be able to extract the text for each of the items in the key_data object.  Write a for loop to extract the label and primary value creating a list of the form [(label, value), (label,value),...]"
   ]
  },
  {
   "cell_type": "code",
   "execution_count": 16,
   "metadata": {},
   "outputs": [
    {
     "name": "stdout",
     "output_type": "stream",
     "text": [
      "[('Open', '$194.79'), ('Day Range', '194.76 - 196.37'), ('52 Week Range', '142.00 - 233.47'), ('Market Cap', '$921.13B'), ('Shares Outstanding', '4.72B'), ('Public Float', '4.71B'), ('Beta', '1.19'), ('Rev. per Employee', '$1.98M'), ('P/E Ratio', '16.14'), ('EPS', '$12.16'), ('Yield', '1.49%'), ('Dividend', '$0.73'), ('Ex-Dividend Date', 'Feb 8, 2019'), ('Short Interest', '72.75M'), ('% of Float Shorted', '1.55%'), ('Average Volume', '31.7M')]\n"
     ]
    }
   ],
   "source": [
    "# initialize an empty list\n",
    "kd_list=[]\n",
    "# loop over the items obtained in the key_data object extracting the label and value from each\n",
    "for text in key_data:\n",
    "    label=text.findChildren()[0].string\n",
    "    value=text.findChildren()[1].string\n",
    "    kd_list.append((label,value))\n",
    "\n",
    "# print the result\n",
    "print(kd_list)"
   ]
  },
  {
   "cell_type": "markdown",
   "metadata": {},
   "source": [
    "f. Optional Challenge:  \n",
    "\n",
    "Combine all of the above into a function that accepts a stock symbol as an argument and returns the list of (label, value) pairs.  "
   ]
  },
  {
   "cell_type": "code",
   "execution_count": 57,
   "metadata": {},
   "outputs": [],
   "source": [
    "#I got this to work for the aapl page only, but when I input other symbols it just gives me the aapl data.  I can't figure out how to fix this, though. See below- I ran it with GE's data and their stoc price is certainly not almost $200...\n",
    "\n",
    "def get_key_data(symbol):\n",
    "    function_list = []\n",
    "    import requests\n",
    "    from bs4 import BeautifulSoup\n",
    "    url=\"https://www.marketwatch.com/investing/stock/\" + symbol\n",
    "    response = requests.get(url)\n",
    "    if not response.status_code == 200:\n",
    "        return None\n",
    "    try: \n",
    "        results_page=BeautifulSoup(response.content, 'lxml')\n",
    "        pairs = results_page.find_all('li', class_='kv__item')\n",
    "        for text in key_data:\n",
    "            label=text.findChildren()[0].string\n",
    "            value=text.findChildren()[1].string\n",
    "            function_list.append((label,value))\n",
    "        return function_list\n",
    "    except:\n",
    "        return None"
   ]
  },
  {
   "cell_type": "markdown",
   "metadata": {},
   "source": [
    "Run the function"
   ]
  },
  {
   "cell_type": "code",
   "execution_count": 60,
   "metadata": {},
   "outputs": [
    {
     "data": {
      "text/plain": [
       "[('Open', '$194.79'),\n",
       " ('Day Range', '194.76 - 196.37'),\n",
       " ('52 Week Range', '142.00 - 233.47'),\n",
       " ('Market Cap', '$921.13B'),\n",
       " ('Shares Outstanding', '4.72B'),\n",
       " ('Public Float', '4.71B'),\n",
       " ('Beta', '1.19'),\n",
       " ('Rev. per Employee', '$1.98M'),\n",
       " ('P/E Ratio', '16.14'),\n",
       " ('EPS', '$12.16'),\n",
       " ('Yield', '1.49%'),\n",
       " ('Dividend', '$0.73'),\n",
       " ('Ex-Dividend Date', 'Feb 8, 2019'),\n",
       " ('Short Interest', '72.75M'),\n",
       " ('% of Float Shorted', '1.55%'),\n",
       " ('Average Volume', '31.7M')]"
      ]
     },
     "execution_count": 60,
     "metadata": {},
     "output_type": "execute_result"
    }
   ],
   "source": [
    "get_key_data(\"ge\")"
   ]
  },
  {
   "cell_type": "markdown",
   "metadata": {},
   "source": [
    "g. Optional:\n",
    "\n",
    "Use pandas to create a dataframe from the data you extracted. "
   ]
  },
  {
   "cell_type": "code",
   "execution_count": 61,
   "metadata": {},
   "outputs": [
    {
     "data": {
      "text/html": [
       "<div>\n",
       "<style scoped>\n",
       "    .dataframe tbody tr th:only-of-type {\n",
       "        vertical-align: middle;\n",
       "    }\n",
       "\n",
       "    .dataframe tbody tr th {\n",
       "        vertical-align: top;\n",
       "    }\n",
       "\n",
       "    .dataframe thead th {\n",
       "        text-align: right;\n",
       "    }\n",
       "</style>\n",
       "<table border=\"1\" class=\"dataframe\">\n",
       "  <thead>\n",
       "    <tr style=\"text-align: right;\">\n",
       "      <th></th>\n",
       "      <th>0</th>\n",
       "      <th>1</th>\n",
       "    </tr>\n",
       "  </thead>\n",
       "  <tbody>\n",
       "    <tr>\n",
       "      <th>0</th>\n",
       "      <td>Open</td>\n",
       "      <td>$194.79</td>\n",
       "    </tr>\n",
       "    <tr>\n",
       "      <th>1</th>\n",
       "      <td>Day Range</td>\n",
       "      <td>194.76 - 196.37</td>\n",
       "    </tr>\n",
       "    <tr>\n",
       "      <th>2</th>\n",
       "      <td>52 Week Range</td>\n",
       "      <td>142.00 - 233.47</td>\n",
       "    </tr>\n",
       "    <tr>\n",
       "      <th>3</th>\n",
       "      <td>Market Cap</td>\n",
       "      <td>$921.13B</td>\n",
       "    </tr>\n",
       "    <tr>\n",
       "      <th>4</th>\n",
       "      <td>Shares Outstanding</td>\n",
       "      <td>4.72B</td>\n",
       "    </tr>\n",
       "    <tr>\n",
       "      <th>5</th>\n",
       "      <td>Public Float</td>\n",
       "      <td>4.71B</td>\n",
       "    </tr>\n",
       "    <tr>\n",
       "      <th>6</th>\n",
       "      <td>Beta</td>\n",
       "      <td>1.19</td>\n",
       "    </tr>\n",
       "    <tr>\n",
       "      <th>7</th>\n",
       "      <td>Rev. per Employee</td>\n",
       "      <td>$1.98M</td>\n",
       "    </tr>\n",
       "    <tr>\n",
       "      <th>8</th>\n",
       "      <td>P/E Ratio</td>\n",
       "      <td>16.14</td>\n",
       "    </tr>\n",
       "    <tr>\n",
       "      <th>9</th>\n",
       "      <td>EPS</td>\n",
       "      <td>$12.16</td>\n",
       "    </tr>\n",
       "    <tr>\n",
       "      <th>10</th>\n",
       "      <td>Yield</td>\n",
       "      <td>1.49%</td>\n",
       "    </tr>\n",
       "    <tr>\n",
       "      <th>11</th>\n",
       "      <td>Dividend</td>\n",
       "      <td>$0.73</td>\n",
       "    </tr>\n",
       "    <tr>\n",
       "      <th>12</th>\n",
       "      <td>Ex-Dividend Date</td>\n",
       "      <td>Feb 8, 2019</td>\n",
       "    </tr>\n",
       "    <tr>\n",
       "      <th>13</th>\n",
       "      <td>Short Interest</td>\n",
       "      <td>72.75M</td>\n",
       "    </tr>\n",
       "    <tr>\n",
       "      <th>14</th>\n",
       "      <td>% of Float Shorted</td>\n",
       "      <td>1.55%</td>\n",
       "    </tr>\n",
       "    <tr>\n",
       "      <th>15</th>\n",
       "      <td>Average Volume</td>\n",
       "      <td>31.7M</td>\n",
       "    </tr>\n",
       "  </tbody>\n",
       "</table>\n",
       "</div>"
      ],
      "text/plain": [
       "                     0                1\n",
       "0                 Open          $194.79\n",
       "1            Day Range  194.76 - 196.37\n",
       "2        52 Week Range  142.00 - 233.47\n",
       "3           Market Cap         $921.13B\n",
       "4   Shares Outstanding            4.72B\n",
       "5         Public Float            4.71B\n",
       "6                 Beta             1.19\n",
       "7    Rev. per Employee           $1.98M\n",
       "8            P/E Ratio            16.14\n",
       "9                  EPS           $12.16\n",
       "10               Yield            1.49%\n",
       "11            Dividend            $0.73\n",
       "12    Ex-Dividend Date      Feb 8, 2019\n",
       "13      Short Interest           72.75M\n",
       "14  % of Float Shorted            1.55%\n",
       "15      Average Volume            31.7M"
      ]
     },
     "execution_count": 61,
     "metadata": {},
     "output_type": "execute_result"
    }
   ],
   "source": [
    "import pandas as pd\n",
    "pd.DataFrame(results)\n",
    "#I was a little confused by this question.  I'm not sure if you'd like us to manipulate it more beyond this.  "
   ]
  },
  {
   "cell_type": "code",
   "execution_count": null,
   "metadata": {},
   "outputs": [],
   "source": []
  }
 ],
 "metadata": {
  "kernelspec": {
   "display_name": "Python 3",
   "language": "python",
   "name": "python3"
  },
  "language_info": {
   "codemirror_mode": {
    "name": "ipython",
    "version": 3
   },
   "file_extension": ".py",
   "mimetype": "text/x-python",
   "name": "python",
   "nbconvert_exporter": "python",
   "pygments_lexer": "ipython3",
   "version": "3.7.1"
  }
 },
 "nbformat": 4,
 "nbformat_minor": 2
}
